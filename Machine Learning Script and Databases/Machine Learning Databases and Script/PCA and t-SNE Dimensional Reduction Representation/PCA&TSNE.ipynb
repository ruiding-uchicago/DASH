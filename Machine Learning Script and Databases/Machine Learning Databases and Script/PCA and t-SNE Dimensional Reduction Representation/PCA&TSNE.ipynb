{
 "cells": [
  {
   "cell_type": "code",
   "execution_count": null,
   "id": "d2f845eb",
   "metadata": {},
   "outputs": [],
   "source": [
    "from sklearn.decomposition import PCA\n",
    "from sklearn.manifold import TSNE\n",
    "import matplotlib.pyplot as plt\n",
    "import numpy as np\n",
    "import pickle\n",
    "from sklearn import metrics\n",
    "\n",
    "%matplotlib\n",
    "\n",
    "def analyze_data(file_name, input_columns, threshold):\n",
    "    # Load data\n",
    "    with open(file_name, 'rb') as fl:\n",
    "        database_full = pickle.load(fl)\n",
    "\n",
    "    # Extract input and output based on file configuration\n",
    "    data_input_full = database_full.iloc[:, 0:input_columns]\n",
    "    data_output_full = (database_full.iloc[:, input_columns] < threshold).astype(int)\n",
    "\n",
    "    # Get indexes for positive and negative samples\n",
    "    positive_idx = np.where(data_output_full == 1)\n",
    "    negative_idx = np.where(data_output_full == 0)\n",
    "\n",
    "    # Perform PCA dimensionality reduction\n",
    "    pca = PCA(n_components=2)\n",
    "    data_input_full_2d_pca = pca.fit_transform(data_input_full)\n",
    "\n",
    "    # Plot PCA results\n",
    "    plt.figure()\n",
    "    plt.scatter(data_input_full_2d_pca[positive_idx, 0], data_input_full_2d_pca[positive_idx, 1], color='red', label='Positive', alpha=0.1)\n",
    "    plt.scatter(data_input_full_2d_pca[negative_idx, 0], data_input_full_2d_pca[negative_idx, 1], color='blue', label='Negative', alpha=0.1)\n",
    "    plt.xlabel('Principal Component 1')\n",
    "    plt.ylabel('Principal Component 2')\n",
    "    plt.legend()\n",
    "    plt.title(f'2D PCA for {file_name}')\n",
    "    plt.show()\n",
    "\n",
    "    # Perform t-SNE dimensionality reduction\n",
    "    tsne = TSNE(n_components=2, random_state=42)\n",
    "    data_input_full_2d_tsne = tsne.fit_transform(data_input_full)\n",
    "\n",
    "    # Plot t-SNE results\n",
    "    plt.figure()\n",
    "    plt.scatter(data_input_full_2d_tsne[positive_idx, 0], data_input_full_2d_tsne[positive_idx, 1], color='red', label='Positive', alpha=0.1)\n",
    "    plt.scatter(data_input_full_2d_tsne[negative_idx, 0], data_input_full_2d_tsne[negative_idx, 1], color='blue', label='Negative', alpha=0.1)\n",
    "    plt.xlabel('t-SNE Component 1')\n",
    "    plt.ylabel('t-SNE Component 2')\n",
    "    plt.legend()\n",
    "    plt.title(f'2D t-SNE for {file_name}')\n",
    "    plt.show()\n",
    "\n",
    "    # Calculate silhouette score and DBI for PCA and t-SNE\n",
    "    silhouette_score_pca = metrics.silhouette_score(data_input_full_2d_pca, data_output_full)\n",
    "    dbi_score_pca = metrics.davies_bouldin_score(data_input_full_2d_pca, data_output_full)\n",
    "    silhouette_score_tsne = metrics.silhouette_score(data_input_full_2d_tsne, data_output_full)\n",
    "    dbi_score_tsne = metrics.davies_bouldin_score(data_input_full_2d_tsne, data_output_full)\n",
    "\n",
    "    # Print silhouette score and DBI results\n",
    "    print(f\"File: {file_name}\")\n",
    "    print(f\"PCA Silhouette Coefficient: {silhouette_score_pca}\")\n",
    "    print(f\"PCA Davies-Bouldin Index: {dbi_score_pca}\")\n",
    "    print(f\"t-SNE Silhouette Coefficient: {silhouette_score_tsne}\")\n",
    "    print(f\"t-SNE Davies-Bouldin Index: {dbi_score_tsne}\")\n"
   ]
  },
  {
   "cell_type": "code",
   "execution_count": null,
   "id": "75cf0e26",
   "metadata": {},
   "outputs": [],
   "source": [
    "# usage activity\n",
    "analyze_data('./database_full_ac.pkl', 54, 200)\n",
    "analyze_data('./database_full_ac.pkl', 54, 250)\n",
    "analyze_data('./database_full_ac.pkl', 54, 300)\n",
    "analyze_data('./database_high_quality_ac.pkl', 54, 200)\n",
    "analyze_data('./database_high_quality_ac.pkl', 54, 250)\n",
    "analyze_data('./database_high_quality_ac.pkl', 54, 300)"
   ]
  },
  {
   "cell_type": "code",
   "execution_count": null,
   "id": "cb028821",
   "metadata": {},
   "outputs": [],
   "source": [
    "# usage stability\n",
    "analyze_data('./database_full_st.pkl', 55, -1)\n",
    "analyze_data('./database_full_st.pkl', 55, 0)\n",
    "analyze_data('./database_full_st.pkl', 55, 1)\n",
    "analyze_data('./database_high_quality_st.pkl', 55, -1)\n",
    "analyze_data('./database_high_quality_st.pkl', 55, 0)\n",
    "analyze_data('./database_high_quality_st.pkl', 55, 1)"
   ]
  }
 ],
 "metadata": {
  "kernelspec": {
   "display_name": "Python 3 (ipykernel)",
   "language": "python",
   "name": "python3"
  },
  "language_info": {
   "codemirror_mode": {
    "name": "ipython",
    "version": 3
   },
   "file_extension": ".py",
   "mimetype": "text/x-python",
   "name": "python",
   "nbconvert_exporter": "python",
   "pygments_lexer": "ipython3",
   "version": "3.9.12"
  }
 },
 "nbformat": 4,
 "nbformat_minor": 5
}
