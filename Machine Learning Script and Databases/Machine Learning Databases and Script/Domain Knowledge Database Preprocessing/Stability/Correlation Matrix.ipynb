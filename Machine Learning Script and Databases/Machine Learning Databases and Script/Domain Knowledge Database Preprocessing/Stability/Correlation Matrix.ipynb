{
 "cells": [
  {
   "cell_type": "code",
   "execution_count": null,
   "id": "8a9fc143",
   "metadata": {},
   "outputs": [],
   "source": [
    "###########import packages##########\n",
    "import pandas as pd\n",
    "import matplotlib.pyplot as plt\n",
    "import numpy as np\n",
    "import sklearn\n",
    "from sklearn.ensemble import RandomForestRegressor\n",
    "from sklearn.model_selection import GridSearchCV\n",
    "from sklearn.model_selection import train_test_split\n",
    "from sklearn.metrics import accuracy_score\n",
    "from sklearn.metrics import classification_report\n",
    "from sklearn import ensemble\n",
    "from sklearn.tree import ExtraTreeRegressor\n",
    "from sklearn import svm\n",
    "from sklearn import neighbors\n",
    "from sklearn import tree\n",
    "from sklearn import ensemble\n",
    "from sklearn.impute import SimpleImputer\n",
    "from sklearn.metrics import r2_score\n",
    "from sklearn.model_selection import LeaveOneOut\n",
    "seed=911\n",
    "###########import packages##########\n",
    "import catboost\n",
    "import xgboost\n",
    "import lightgbm\n",
    "from xgboost import XGBRegressor\n",
    "from lightgbm import LGBMRegressor\n",
    "from catboost import *\n",
    "import pickle\n",
    "from sklearn.gaussian_process import GaussianProcessRegressor\n",
    "from sklearn.gaussian_process.kernels import  *\n",
    "###########import packages##########\n",
    "import tensorflow as tf\n",
    "import keras\n",
    "from keras import optimizers\n",
    "from keras import regularizers\n",
    "from keras import backend as K\n",
    "from keras.callbacks import EarlyStopping\n",
    "from keras.callbacks import TensorBoard\n",
    "from keras.constraints import max_norm\n",
    "from keras.models import Sequential \n",
    "from keras.layers import Dense \n",
    "from keras.layers import Dropout \n",
    "from keras.models import Model\n",
    "from keras.layers import BatchNormalization\n",
    "from keras.wrappers.scikit_learn import KerasClassifier \n",
    "from keras.wrappers.scikit_learn import KerasRegressor\n",
    "from keras.constraints import maxnorm \n",
    "import seaborn as sns\n",
    "import numpy as np\n",
    "import pandas as pd\n",
    "import matplotlib.pyplot as plt\n",
    "from scikeras.wrappers import KerasClassifier, KerasRegressor\n",
    "###########loading data##########\n",
    "loo = LeaveOneOut()\n",
    "# %matplotlib\n"
   ]
  },
  {
   "cell_type": "code",
   "execution_count": null,
   "id": "3bfbb33b",
   "metadata": {},
   "outputs": [],
   "source": [
    "fl_full = open(r'./database_full_st.pkl','rb')\n",
    "fl_high_quality = open(r'./database_high_quality_st.pkl','rb')\n",
    "database_full=pickle.load(fl_full)\n",
    "database_high_quality=pickle.load(fl_high_quality)\n",
    "data_input_full=database_full.iloc[:,0:55]\n",
    "data_input_high_quality=database_full.iloc[:,0:55]"
   ]
  },
  {
   "cell_type": "code",
   "execution_count": null,
   "id": "397e4395",
   "metadata": {},
   "outputs": [],
   "source": [
    "mat_full_pearson=data_input_full.corr(method='pearson')\n",
    "mat_full_kendall=data_input_full.corr(method='kendall')\n",
    "mat_full_spearman=data_input_full.corr(method='spearman')"
   ]
  },
  {
   "cell_type": "code",
   "execution_count": null,
   "id": "273884b1",
   "metadata": {},
   "outputs": [],
   "source": [
    "mat_high_quality_pearson=data_input_high_quality.corr(method='pearson')\n",
    "mat_high_quality_kendall=data_input_high_quality.corr(method='kendall')\n",
    "mat_high_quality_spearman=data_input_high_quality.corr(method='spearman')"
   ]
  },
  {
   "cell_type": "code",
   "execution_count": null,
   "id": "d4bb74f2",
   "metadata": {},
   "outputs": [],
   "source": [
    "f, ax= plt.subplots(figsize = (14, 10))\n",
    "sns.set(font_scale=1)\n",
    "sns.heatmap(mat_full_pearson,annot=False, vmax=1,vmin = 0, xticklabels= True, yticklabels= True, square=True, cmap=\"gist_heat_r\")"
   ]
  },
  {
   "cell_type": "code",
   "execution_count": null,
   "id": "2657e753",
   "metadata": {},
   "outputs": [],
   "source": [
    "f, ax= plt.subplots(figsize = (14, 10))\n",
    "sns.heatmap(mat_full_kendall,annot=False, vmax=1,vmin = 0, xticklabels= True, yticklabels= True, square=True, cmap=\"gist_heat_r\")"
   ]
  },
  {
   "cell_type": "code",
   "execution_count": null,
   "id": "7152b2d8",
   "metadata": {},
   "outputs": [],
   "source": [
    "f, ax= plt.subplots(figsize = (14, 10))\n",
    "sns.heatmap(mat_full_spearman,annot=False, vmax=1,vmin = 0, xticklabels= True, yticklabels= True, square=True, cmap=\"gist_heat_r\")"
   ]
  },
  {
   "cell_type": "code",
   "execution_count": null,
   "id": "84dfee10",
   "metadata": {},
   "outputs": [],
   "source": [
    "f, ax= plt.subplots(figsize = (14, 10))\n",
    "sns.heatmap(mat_high_quality_pearson,annot=False, vmax=1,vmin = 0, xticklabels= True, yticklabels= True, square=True, cmap=\"gist_heat_r\")"
   ]
  },
  {
   "cell_type": "code",
   "execution_count": null,
   "id": "90b8dddf",
   "metadata": {},
   "outputs": [],
   "source": [
    "f, ax= plt.subplots(figsize = (14, 10))\n",
    "sns.heatmap(mat_high_quality_kendall,annot=False, vmax=1,vmin = 0, xticklabels= True, yticklabels= True, square=True, cmap=\"gist_heat_r\")"
   ]
  },
  {
   "cell_type": "code",
   "execution_count": null,
   "id": "5bf17508",
   "metadata": {},
   "outputs": [],
   "source": [
    "f, ax= plt.subplots(figsize = (14, 10))\n",
    "sns.heatmap(mat_high_quality_spearman,annot=False, vmax=1,vmin = 0, xticklabels= True, yticklabels= True, square=True, cmap=\"gist_heat_r\")"
   ]
  },
  {
   "cell_type": "code",
   "execution_count": null,
   "id": "ed81aba8",
   "metadata": {},
   "outputs": [],
   "source": []
  }
 ],
 "metadata": {
  "kernelspec": {
   "display_name": "Python 3 (ipykernel)",
   "language": "python",
   "name": "python3"
  },
  "language_info": {
   "codemirror_mode": {
    "name": "ipython",
    "version": 3
   },
   "file_extension": ".py",
   "mimetype": "text/x-python",
   "name": "python",
   "nbconvert_exporter": "python",
   "pygments_lexer": "ipython3",
   "version": "3.9.12"
  }
 },
 "nbformat": 4,
 "nbformat_minor": 5
}
