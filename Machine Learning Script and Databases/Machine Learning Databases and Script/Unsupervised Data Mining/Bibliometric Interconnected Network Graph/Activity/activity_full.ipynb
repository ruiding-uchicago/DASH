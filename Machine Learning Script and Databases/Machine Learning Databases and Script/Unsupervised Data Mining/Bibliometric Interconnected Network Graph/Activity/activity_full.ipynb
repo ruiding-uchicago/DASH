{
 "cells": [
  {
   "cell_type": "code",
   "execution_count": null,
   "id": "6129c721",
   "metadata": {},
   "outputs": [],
   "source": [
    "import networkx as nx\n",
    "import pandas as pd\n",
    "import matplotlib\n",
    "import matplotlib.pyplot as plt\n",
    "from numpy import *\n",
    "import random\n",
    "import numpy as np\n",
    "%matplotlib"
   ]
  },
  {
   "cell_type": "code",
   "execution_count": null,
   "id": "5c1412bd",
   "metadata": {},
   "outputs": [],
   "source": [
    "def count_element_appearance_times(element_name,Emerged_ele_list):\n",
    "    count_num=0\n",
    "    for i in range(0,len(Emerged_ele_list)):\n",
    "        if Emerged_ele_list[i]==element_name:\n",
    "            count_num+=1\n",
    "    return count_num"
   ]
  },
  {
   "cell_type": "code",
   "execution_count": null,
   "id": "bf633dad",
   "metadata": {},
   "outputs": [],
   "source": [
    "def count_element_total_occurence(init_database):\n",
    "    Total_ele_list=[]\n",
    "    for i in range(0,len(init_database)):\n",
    "        Ele_1=init_database.loc[i]['Metal_Dopant_1']\n",
    "        Ele_2=init_database.loc[i]['Metal_Dopant_2']\n",
    "        Ele_3=init_database.loc[i]['Metal_Dopant_3']\n",
    "        Ele_4=init_database.loc[i]['Metal_Dopant_4']\n",
    "        Total_ele_list.append(Ele_1)\n",
    "        Total_ele_list.append(Ele_2)\n",
    "        Total_ele_list.append(Ele_3)\n",
    "        Total_ele_list.append(Ele_4)\n",
    "    Emerged_ele_list=list(set(Total_ele_list))\n",
    "    element_oc_df=pd.DataFrame(columns=['Element_Type','Occurence'])\n",
    "    for each_ele in Emerged_ele_list:\n",
    "        current_count=count_element_appearance_times(each_ele,Total_ele_list)\n",
    "        current_dict={'Element_Type':each_ele,'Occurence':current_count}\n",
    "        element_oc_df = pd.concat([element_oc_df, pd.DataFrame.from_records([current_dict])])\n",
    "    ####sort by ocurrence####\n",
    "    sorted_df=element_oc_df.sort_values('Occurence',ascending=False)\n",
    "    ####reset index####\n",
    "    sorted_df=sorted_df.reset_index(drop=True)\n",
    "    ####remove None####\n",
    "    sorted_cleared_df=sorted_df.drop([0])\n",
    "    ####save csv####\n",
    "    sorted_cleared_df.to_csv('Occurence_Element_Total.csv')\n",
    "    return sorted_cleared_df"
   ]
  },
  {
   "cell_type": "code",
   "execution_count": null,
   "id": "309d3961",
   "metadata": {},
   "outputs": [],
   "source": [
    "def count_element_coexistence_times(ele_1,ele_2):\n",
    "    count_coex_times=0\n",
    "    for i in range (0,len(init_database)):\n",
    "        current_element_list=list(init_database.loc[i][9:13])\n",
    "        if ele_1 in current_element_list and ele_2 in current_element_list:\n",
    "            count_coex_times+=1\n",
    "    return count_coex_times"
   ]
  },
  {
   "cell_type": "code",
   "execution_count": null,
   "id": "c3106b4b",
   "metadata": {},
   "outputs": [],
   "source": [
    "def get_average_performance_of_two_ele_higher(ele_1,ele_2,init_database,standard_bar,value_name):\n",
    "    performance_list=[]\n",
    "    for i in range (0,len(init_database)):\n",
    "        current_element_list=list(init_database.loc[i][9:13])\n",
    "        if ele_1 in current_element_list and ele_2 in current_element_list:\n",
    "            performance_list.append(init_database.loc[i][value_name])\n",
    "    count_qualified=len([i for i in performance_list if i>=standard_bar])\n",
    "    try:\n",
    "        return count_qualified/len(performance_list)\n",
    "    except:\n",
    "        return 0"
   ]
  },
  {
   "cell_type": "code",
   "execution_count": null,
   "id": "f892fecc",
   "metadata": {},
   "outputs": [],
   "source": [
    "def get_average_performance_of_two_ele_lower(ele_1,ele_2,init_database,standard_bar,value_name):\n",
    "    performance_list=[]\n",
    "    for i in range (0,len(init_database)):\n",
    "        current_element_list=list(init_database.loc[i][9:13])\n",
    "        if ele_1 in current_element_list and ele_2 in current_element_list:\n",
    "            performance_list.append(init_database.loc[i][value_name])\n",
    "    count_qualified=len([i for i in performance_list if i<=standard_bar])\n",
    "    try:\n",
    "        return count_qualified/len(performance_list)\n",
    "    except:\n",
    "        return 0"
   ]
  },
  {
   "cell_type": "code",
   "execution_count": null,
   "id": "4906643f",
   "metadata": {},
   "outputs": [],
   "source": [
    "def get_average_performance_of_one_ele_higher(ele,init_database,standard_bar,value_name):\n",
    "    performance_list=[]\n",
    "    for i in range (0,len(init_database)):\n",
    "        current_element_list=list(init_database.loc[i][9:13])\n",
    "        if ele in current_element_list:\n",
    "            performance_list.append(init_database.loc[i][value_name])\n",
    "    count_qualified=len([i for i in performance_list if i>=standard_bar])\n",
    "    try:\n",
    "        return count_qualified/len(performance_list)\n",
    "    except:\n",
    "        return 0"
   ]
  },
  {
   "cell_type": "code",
   "execution_count": null,
   "id": "07a471ae",
   "metadata": {},
   "outputs": [],
   "source": [
    "def get_average_performance_of_one_ele_lower(ele,init_database,standard_bar,value_name):\n",
    "    performance_list=[]\n",
    "    for i in range (0,len(init_database)):\n",
    "        current_element_list=list(init_database.loc[i][9:13])\n",
    "        if ele in current_element_list:\n",
    "            performance_list.append(init_database.loc[i][value_name])\n",
    "    count_qualified=len([i for i in performance_list if i<=standard_bar])\n",
    "    try:\n",
    "        return count_qualified/len(performance_list)\n",
    "    except:\n",
    "        return 0"
   ]
  },
  {
   "cell_type": "code",
   "execution_count": null,
   "id": "4f7a2da8",
   "metadata": {},
   "outputs": [],
   "source": [
    "def count_perform_qualified(list_ele_from_high_to_low,init_database,standard_bar,high_or_low,value_name):\n",
    "    list_performance=[]\n",
    "    for each_ele_1 in list_ele_from_high_to_low:\n",
    "        for each_ele_2 in list_ele_from_high_to_low:\n",
    "            if each_ele_1 != each_ele_2 and list_ele_from_high_to_low.index(each_ele_1)<list_ele_from_high_to_low.index(each_ele_2):\n",
    "                print(each_ele_1,each_ele_2)\n",
    "                if high_or_low=='high':\n",
    "                    qualified_ratio=get_average_performance_of_two_ele_higher(each_ele_1,each_ele_2,init_database,standard_bar,value_name)\n",
    "                    list_performance.append(qualified_ratio)\n",
    "                else:\n",
    "                    qualified_ratio=get_average_performance_of_two_ele_lower(each_ele_1,each_ele_2,init_database,standard_bar,value_name)\n",
    "                    list_performance.append(qualified_ratio)\n",
    "                print(qualified_ratio)\n",
    "    return list_performance"
   ]
  },
  {
   "cell_type": "code",
   "execution_count": null,
   "id": "e1cf98f7",
   "metadata": {},
   "outputs": [],
   "source": [
    "def count_perform_qualified_single_element(list_ele_from_high_to_low,init_database,standard_bar,high_or_low,value_name):\n",
    "    list_performance=[]\n",
    "    for each_ele in list_ele_from_high_to_low:\n",
    "            print(each_ele)\n",
    "            if high_or_low=='high':\n",
    "                qualified_ratio=get_average_performance_of_one_ele_higher(each_ele,init_database,standard_bar,value_name)\n",
    "                list_performance.append(qualified_ratio)\n",
    "            else:\n",
    "                qualified_ratio=get_average_performance_of_one_ele_lower(each_ele,init_database,standard_bar,value_name)\n",
    "                list_performance.append(qualified_ratio)\n",
    "            print(qualified_ratio)\n",
    "    return list_performance"
   ]
  },
  {
   "cell_type": "code",
   "execution_count": null,
   "id": "86f87a81",
   "metadata": {},
   "outputs": [],
   "source": [
    "def post_process_for_color(target_list):\n",
    "    new_list=[]\n",
    "    for each in target_list:\n",
    "        new_each=(each*100)*(each*100)\n",
    "        new_list.append(new_each)\n",
    "    return new_list"
   ]
  },
  {
   "cell_type": "code",
   "execution_count": null,
   "id": "ee23cd51",
   "metadata": {
    "scrolled": true
   },
   "outputs": [],
   "source": [
    "def count_coexistence(list_ele_from_high_to_low):\n",
    "    coexistance_df=pd.DataFrame(columns=['Element_Type_1','Element_Type_2','Coexistence_num'])\n",
    "    for each_ele_1 in list_ele_from_high_to_low:\n",
    "        for each_ele_2 in list_ele_from_high_to_low:\n",
    "            if each_ele_1 != each_ele_2 and list_ele_from_high_to_low.index(each_ele_1)<list_ele_from_high_to_low.index(each_ele_2):\n",
    "                print(each_ele_1,each_ele_2)\n",
    "                coexistance_times=count_element_coexistence_times(each_ele_1,each_ele_2)\n",
    "                current_dict={'Element_Type_1':each_ele_1,'Element_Type_2':each_ele_2,'Coexistence_num':coexistance_times}\n",
    "                coexistance_df = pd.concat([coexistance_df, pd.DataFrame.from_records([current_dict])])\n",
    "    coexistance_df.to_csv('Coexistence.csv')\n",
    "    return coexistance_df"
   ]
  },
  {
   "cell_type": "code",
   "execution_count": null,
   "id": "a576fea9",
   "metadata": {},
   "outputs": [],
   "source": [
    "def classify_element_type(target_ele):\n",
    "    output_class=None\n",
    "    if target_ele in ['C','Ti','Sn','Ge','Sn','Pb']:\n",
    "        output_class='C Ti Group'\n",
    "    elif target_ele in ['P','N','As','Sb''Bi']:\n",
    "        output_class='N P Group'\n",
    "    elif target_ele in ['O','S','Se','Te','Po']:\n",
    "        output_class='O S Group'    \n",
    "    elif target_ele in ['Al','B','Ga','In','Ta']:\n",
    "        output_class='B Al Group'\n",
    "    elif target_ele in ['F','Cl','Br','I']:\n",
    "        output_class='F Cl Group'\n",
    "    elif target_ele in ['Ti','V','Cr','Mn','Fe','Co','Ni','Cu','Zn','Zr','Nb','Mo','Tc','Cd','Hf','Ta','W','Re','Hg']:\n",
    "        output_class='Earth Abundant Transition Metal'\n",
    "    elif target_ele in ['Sc','Y','La','Ce','Pr','Nd','Pm','Sm','Eu','Gd','Tb','Dy','Ho','Er','Tm','Yb','Lu']:\n",
    "        output_class='Rare Earth Metal'\n",
    "    elif target_ele in ['Li','Na','K','Rb','Cs','Be','Mg','Ca','Sr','Ba']:\n",
    "        output_class='Alkali Metal'\n",
    "    elif target_ele in ['Ru','Pt','Ir','Pd','Rh','Ag','Au','Os']:\n",
    "        output_class='Noble Metal'\n",
    "    return output_class"
   ]
  },
  {
   "cell_type": "code",
   "execution_count": null,
   "id": "7f5c8a50",
   "metadata": {},
   "outputs": [],
   "source": [
    "def create_edge_color_by_ele_type(type_ele_list):\n",
    "    return_list=[]\n",
    "    for each in type_ele_list:\n",
    "        if each=='C Ti Group':\n",
    "            return_list.append('aquamarine')\n",
    "        elif each=='N P Group':\n",
    "            return_list.append('royalblue')\n",
    "        elif each=='O S Group':\n",
    "            return_list.append('red')\n",
    "        elif each=='B Al Group':\n",
    "            return_list.append('pink')\n",
    "        elif each=='F Cl Group':\n",
    "            return_list.append('brown')\n",
    "        elif each=='Earth Abundant Transition Metal':\n",
    "            return_list.append('cornflowerblue')\n",
    "        elif each=='Rare Earth Metal':\n",
    "            return_list.append('purple')\n",
    "        elif each=='Alkali Metal':\n",
    "            return_list.append('yellow')\n",
    "        elif each=='Noble Metal':\n",
    "            return_list.append('orange')\n",
    "        else:\n",
    "            return_list.append('white')\n",
    "    return return_list\n",
    "        \n",
    "def compute_performance_1_2(bar,high_or_low,feature_name):\n",
    "    list_performance_2ele=count_perform_qualified(list_ele_from_high_to_low,init_database,bar,high_or_low,feature_name)\n",
    "    list_performance_1ele=count_perform_qualified_single_element(list_ele_from_high_to_low,init_database,bar,high_or_low,feature_name)\n",
    "    single_ele_color_list=[plt.cm.magma_r(i) for i in list_performance_1ele]\n",
    "    return list_performance_2ele,single_ele_color_list\n",
    "def draw_network(seed,list_performance_2ele,single_ele_color_list):\n",
    "    random.seed(seed)\n",
    "    np.random.seed(seed)\n",
    "    fig, ax = plt.subplots(figsize=(15, 8))\n",
    "\n",
    "    relationships = pd.DataFrame({'from': list(coexistance_df['Element_Type_1']), \n",
    "                                  'to':   list(coexistance_df['Element_Type_2'])})\n",
    "\n",
    "    # Create DF for node characteristics\n",
    "    carac = pd.DataFrame({'ID':ele_list, \n",
    "                          'type':type_ele_list})\n",
    "    G = nx.from_pandas_edgelist(relationships, 'from', 'to', create_using=nx.Graph())\n",
    "    # Make types into categories\n",
    "    carac = carac.set_index('ID')\n",
    "    carac = carac.reindex(G.nodes())\n",
    "    carac['type'] = pd.Categorical(carac['type'])\n",
    "    ####node sizes and widths####\n",
    "    node_sizes=list(element_oc_df['Occurence'])\n",
    "    node_sizes=[log(i)*log(i)*50 for i in node_sizes]\n",
    "    widths=[x/10 for x in list(coexistance_df['Coexistence_num'])]\n",
    "    cmap = matplotlib.colors.ListedColormap(['red','green','blue','deeppink','orange','purple','yellow','pink','brown'])\n",
    "    # Set node size\n",
    "    nx.draw_spring(G,connectionstyle='Arc',style='dashed', with_labels=True, node_size=node_sizes, node_color=single_ele_color_list,edge_color=list_performance_2ele, width=widths, cmap=cmap, edge_cmap=plt.cm.magma_r, font_size=25,edgecolors=node_edge_color_list,linewidths=3)"
   ]
  },
  {
   "cell_type": "code",
   "execution_count": null,
   "id": "e765565c",
   "metadata": {
    "scrolled": true
   },
   "outputs": [],
   "source": [
    "init_database=pd.read_csv('OER_activity.csv',encoding='gbk')\n",
    "element_oc_df=count_element_total_occurence(init_database)\n",
    "list_ele_from_high_to_low=list(element_oc_df['Element_Type'])\n",
    "coexistance_df=count_coexistence(list_ele_from_high_to_low)\n",
    "ele_occurence_list=element_oc_df['Occurence']\n",
    "ele_list=element_oc_df['Element_Type']\n",
    "type_ele_list=[]\n",
    "for each in list(ele_list):\n",
    "    type_ele_list.append(classify_element_type(each))\n",
    "node_edge_color_list=create_edge_color_by_ele_type(type_ele_list)"
   ]
  },
  {
   "cell_type": "code",
   "execution_count": null,
   "id": "6f56527e",
   "metadata": {
    "scrolled": true
   },
   "outputs": [],
   "source": [
    "list_performance_2ele_200,single_ele_color_list_200=compute_performance_1_2(200,'low','Overpotential (mV @10 mA cm-2)')\n",
    "draw_network(3,list_performance_2ele_200,single_ele_color_list_200)"
   ]
  },
  {
   "cell_type": "code",
   "execution_count": null,
   "id": "3fcd9966",
   "metadata": {
    "scrolled": true
   },
   "outputs": [],
   "source": [
    "list_performance_2ele_250,single_ele_color_list_250=compute_performance_1_2(250,'low','Overpotential (mV @10 mA cm-2)')\n",
    "draw_network(3,list_performance_2ele_250,single_ele_color_list_250)"
   ]
  },
  {
   "cell_type": "code",
   "execution_count": null,
   "id": "e117a43f",
   "metadata": {
    "scrolled": true
   },
   "outputs": [],
   "source": [
    "list_performance_2ele_300,single_ele_color_list_300=compute_performance_1_2(300,'low','Overpotential (mV @10 mA cm-2)')\n",
    "draw_network(3,list_performance_2ele_300,single_ele_color_list_300)"
   ]
  },
  {
   "cell_type": "code",
   "execution_count": null,
   "id": "5c66efb0",
   "metadata": {},
   "outputs": [],
   "source": [
    "seed=17\n",
    "draw_network(seed,list_performance_2ele_200,single_ele_color_list_200)\n",
    "draw_network(seed,list_performance_2ele_250,single_ele_color_list_250)\n",
    "draw_network(seed,list_performance_2ele_300,single_ele_color_list_300)"
   ]
  },
  {
   "cell_type": "code",
   "execution_count": null,
   "id": "17e77275",
   "metadata": {},
   "outputs": [],
   "source": []
  }
 ],
 "metadata": {
  "kernelspec": {
   "display_name": "Python 3 (ipykernel)",
   "language": "python",
   "name": "python3"
  },
  "language_info": {
   "codemirror_mode": {
    "name": "ipython",
    "version": 3
   },
   "file_extension": ".py",
   "mimetype": "text/x-python",
   "name": "python",
   "nbconvert_exporter": "python",
   "pygments_lexer": "ipython3",
   "version": "3.9.12"
  }
 },
 "nbformat": 4,
 "nbformat_minor": 5
}
