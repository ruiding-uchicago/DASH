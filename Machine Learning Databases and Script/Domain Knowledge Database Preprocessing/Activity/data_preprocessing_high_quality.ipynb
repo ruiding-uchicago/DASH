{
 "cells": [
  {
   "cell_type": "code",
   "execution_count": null,
   "id": "677dd1eb",
   "metadata": {},
   "outputs": [],
   "source": [
    "###########import packages##########\n",
    "import pandas as pd\n",
    "import matplotlib.pyplot as plt\n",
    "import numpy as np\n",
    "import sklearn\n",
    "from sklearn.ensemble import RandomForestRegressor\n",
    "from sklearn.model_selection import GridSearchCV\n",
    "from sklearn.model_selection import train_test_split\n",
    "from sklearn.metrics import accuracy_score\n",
    "from sklearn.metrics import classification_report\n",
    "from sklearn import ensemble\n",
    "from sklearn.tree import ExtraTreeRegressor\n",
    "from sklearn import svm\n",
    "from sklearn import neighbors\n",
    "from sklearn import tree\n",
    "from sklearn.impute import SimpleImputer\n",
    "from sklearn.metrics import r2_score\n",
    "from sklearn.model_selection import LeaveOneOut\n",
    "#%matplotlib \n",
    "###########import packages##########\n",
    "import catboost\n",
    "import xgboost\n",
    "import lightgbm\n",
    "from xgboost import XGBRegressor\n",
    "from lightgbm import LGBMRegressor\n",
    "from catboost import *\n",
    "###########loading data##########\n",
    "fdata=pd.read_csv('OER_activity.csv',encoding=\"gbk\")\n",
    "loo = LeaveOneOut()\n",
    "edata=fdata[(fdata['Impact Factor']>=10)|(fdata['Average cited times per day']>=0.025)|(fdata['Number of days until 01/20/2023']<=365) ]"
   ]
  },
  {
   "cell_type": "code",
   "execution_count": null,
   "id": "55ef5b16",
   "metadata": {},
   "outputs": [],
   "source": [
    "edata=edata.reset_index(drop = True)"
   ]
  },
  {
   "cell_type": "code",
   "execution_count": null,
   "id": "e8865072",
   "metadata": {},
   "outputs": [],
   "source": [
    "not_needed_labels_list=['DOI','Country','Facility','Journal','Impact Factor','Published Date'\n",
    ",'Cited Times','Number of days until 01/20/2023','Average cited times per day','Annealing Temerature Rising Rate (Celcius Degree min-1)','Electrolyte O2 Saturated (0/1)'\n",
    ",'Sample Name']"
   ]
  },
  {
   "cell_type": "code",
   "execution_count": null,
   "id": "fe0a2bae",
   "metadata": {},
   "outputs": [],
   "source": [
    "database_init=edata.drop(labels=not_needed_labels_list,axis=1)"
   ]
  },
  {
   "cell_type": "code",
   "execution_count": null,
   "id": "fbf7e092",
   "metadata": {},
   "outputs": [],
   "source": [
    "database_init.columns"
   ]
  },
  {
   "cell_type": "code",
   "execution_count": null,
   "id": "cce95ccc",
   "metadata": {},
   "outputs": [],
   "source": [
    "database_init.insert(0,'Metal_Dopant_1 Relative Atomic Mass',None)\n",
    "database_init.insert(1,'Metal_Dopant_1 Atomic Number',None)\n",
    "database_init.insert(2,'Metal_Dopant_1 Period',None)\n",
    "database_init.insert(3,'Metal_Dopant_1 Group',None)\n",
    "database_init.insert(4,'Metal_Dopant_1 Ionization Potential',None)\n",
    "database_init.insert(5,'Metal_Dopant_1 Electronegativity',None)\n",
    "database_init.insert(6,'Metal_Dopant_1 Number of d electrons',None)\n",
    "database_init.insert(7,'Metal_Dopant_1 Atomic Radius',None)"
   ]
  },
  {
   "cell_type": "code",
   "execution_count": null,
   "id": "ecc05610",
   "metadata": {},
   "outputs": [],
   "source": [
    "database_init.insert(9,'Metal_Dopant_2 Relative Atomic Mass',None)\n",
    "database_init.insert(10,'Metal_Dopant_2 Atomic Number',None)\n",
    "database_init.insert(11,'Metal_Dopant_2 Period',None)\n",
    "database_init.insert(12,'Metal_Dopant_2 Group',None)\n",
    "database_init.insert(13,'Metal_Dopant_2 Ionization Potential',None)\n",
    "database_init.insert(14,'Metal_Dopant_2 Electronegativity',None)\n",
    "database_init.insert(15,'Metal_Dopant_2 Number of d electrons',None)\n",
    "database_init.insert(16,'Metal_Dopant_2 Atomic Radius',None)"
   ]
  },
  {
   "cell_type": "code",
   "execution_count": null,
   "id": "95cdd813",
   "metadata": {},
   "outputs": [],
   "source": [
    "database_init.insert(18,'Metal_Dopant_3 Relative Atomic Mass',None)\n",
    "database_init.insert(19,'Metal_Dopant_3 Atomic Number',None)\n",
    "database_init.insert(20,'Metal_Dopant_3 Period',None)\n",
    "database_init.insert(21,'Metal_Dopant_3 Group',None)\n",
    "database_init.insert(22,'Metal_Dopant_3 Ionization Potential',None)\n",
    "database_init.insert(23,'Metal_Dopant_3 Electronegativity',None)\n",
    "database_init.insert(24,'Metal_Dopant_3 Number of d electrons',None)\n",
    "database_init.insert(25,'Metal_Dopant_3 Atomic Radius',None)"
   ]
  },
  {
   "cell_type": "code",
   "execution_count": null,
   "id": "07b0bd4c",
   "metadata": {},
   "outputs": [],
   "source": [
    "database_init.insert(27,'Metal_Dopant_4 Relative Atomic Mass',None)\n",
    "database_init.insert(28,'Metal_Dopant_4 Atomic Number',None)\n",
    "database_init.insert(29,'Metal_Dopant_4 Period',None)\n",
    "database_init.insert(30,'Metal_Dopant_4 Group',None)\n",
    "database_init.insert(31,'Metal_Dopant_4 Ionization Potential',None)\n",
    "database_init.insert(32,'Metal_Dopant_4 Electronegativity',None)\n",
    "database_init.insert(33,'Metal_Dopant_4 Number of d electrons',None)\n",
    "database_init.insert(34,'Metal_Dopant_4 Atomic Radius',None)"
   ]
  },
  {
   "cell_type": "code",
   "execution_count": null,
   "id": "7b25f353",
   "metadata": {},
   "outputs": [],
   "source": [
    "element_list=['Ag','Al','Au','B','Ba','Bi','Br','C','Ca','Cd','Ce','Cl','Co','Cr',\n",
    "              'Cu','Er','Eu','F','Fe','Ga','Gd','Ho','In','Ir','K','La','Li','Lu',\n",
    "              'Mg','Mn','Mo','N','Na','Nb','Ni','Os','P','Pb','Pd','Pr','Pt','Rh',\n",
    "              'Ru','S','Sb','Sc','Se','Si','Sm','Sn','Sr','Ta','Tb','Te','Ti','Tm',\n",
    "              'V','W','Y','Zn','Zr']\n",
    "element_information={}"
   ]
  },
  {
   "cell_type": "code",
   "execution_count": null,
   "id": "8584193e",
   "metadata": {},
   "outputs": [],
   "source": [
    "element_information['None']=[0,0,0,0,0,0,0,0]\n",
    "element_information['none']=[0,0,0,0,0,0,0,0]\n",
    "element_information['Sc']=[44.956, 21, 4, 3, 6.57, 1.36, 1, 162]\n",
    "element_information['Ti']=[47.867, 22, 4, 4, 6.81, 1.54, 2, 147]\n",
    "element_information['V']=[50.942, 23, 4, 5, 6.76, 1.63, 3, 134]\n",
    "element_information['Cr']=[51.996, 24, 4, 6, 6.74, 1.66, 4, 130]\n",
    "element_information['Mn']=[54.938, 25, 4, 7, 7.4, 1.56, 5, 127]\n",
    "element_information['Fe']=[55.845, 26, 4, 8, 7.83, 1.83, 6, 126]\n",
    "element_information['Co']=[58.933, 27, 4, 9, 7.81, 1.88, 7, 125]\n",
    "element_information['Ni']=[58.6934, 28, 4, 10, 7.61, 1.91, 8, 124]\n",
    "element_information['Cu']=[63.546, 29, 4, 11, 7.69, 1.9, 10, 128]\n",
    "element_information['Zn']=[65.38, 30, 4, 12, 9.35, 1.65, 10, 138]\n",
    "element_information['Ga']=[69.723, 31, 4, 13, 5.97, 1.81, 10, 141]\n",
    "element_information['Y']=[88.905, 39, 5, 3, 6.5, 1.22, 1, 178]\n",
    "element_information['Zr']=[91.224, 40, 5, 4, 6, 1.33, 2, 160]\n",
    "element_information['Nb']=[92.906, 41, 5, 5, 6.76, 1.6, 4, 146]\n",
    "element_information['Mo']=[95.94, 42, 5, 6, 7.35, 2.16, 5, 139]\n",
    "element_information['Tc']=[98.906, 43, 5, 7, 7.28, 1.9, 5, 136]\n",
    "element_information['Ru']=[101.07, 44, 5, 8, 7.5, 2.2, 7, 134]\n",
    "element_information['Rh']=[102.905, 45, 5, 9, 7.7, 2.28, 8, 134]\n",
    "element_information['Pd']=[106.42, 46, 5, 10, 8.3, 2.2, 10, 137]\n",
    "element_information['Ag']=[107.868, 47, 5, 11, 7.54, 1.93, 10, 144]\n",
    "element_information['Cd']=[112.411, 48, 5, 12, 8.95, 1.69, 10, 154]\n",
    "element_information['In']=[114.818, 49, 5, 13, 8.95, 1.78, 10, 166]\n",
    "element_information['Sn']=[118.71, 50, 5, 14, 7.37, 1.96, 10, 162]\n",
    "element_information['La']=[138.905, 57, 6, 3, 5.5, 1.1, 1, 187]\n",
    "element_information['Ce']=[140.116, 58, 6, 3, 6.91, 1.12, 1, 181]\n",
    "element_information['Pr']=[140.904, 59, 6, 3, 5.76, 1.13, 10, 182]\n",
    "element_information['Nd']=[144.242, 60, 6, 3, 6.31, 1.14, 10, 182]\n",
    "element_information['Pm']=[144.912, 61, 6, 3 ,5.55, 1.13, 10, 183]\n",
    "element_information['Sm']=[150.36, 62, 6, 3, 6.55, 1.1, 10, 181]\n",
    "element_information['Eu']=[151.964, 63, 6, 3, 5.67, 1.2, 10, 199]\n",
    "element_information['Gd']=[157.25, 64, 6, 3, 6.65, 1.2, 1, 179]\n",
    "element_information['Tb']=[158.925, 65, 6, 3, 6.74, 1.2, 10, 180]\n",
    "element_information['Dy']=[162.5, 66, 6, 3, 6.82, 1.22, 10, 180]\n",
    "element_information['Ho']=[164.93, 67, 6, 3, 6.022, 1.23, 10, 179]\n",
    "element_information['Er']=[167.529, 68, 6, 3, 6.108, 1.23, 10, 178]\n",
    "element_information['Tm']=[168.934, 69, 6, 3, 6.184, 1.25, 10, 177]\n",
    "element_information['Yb']=[173.04, 70, 6, 3, 7.06, 1.1, 10, 176]\n",
    "element_information['Lu']=[174.967, 71, 6, 3, 5.4259, 1.27, 1, 175]\n",
    "element_information['Hf']=[178.49, 72, 6, 4, 6.8251, 1.3, 2, 167]\n",
    "element_information['Ta']=[180.947,73, 6, 5, 7.89, 1.5, 3, 149]\n",
    "element_information['W']=[183.84, 74, 6, 6, 7.98, 2.36, 4, 141]\n",
    "element_information['Re']=[186.207, 75, 6, 7, 7.88, 1.9, 5, 137]\n",
    "element_information['Os']=[190.23, 76, 6, 8, 8.7, 2.2, 6, 135]\n",
    "element_information['Ir']=[192.217, 77, 6, 9, 9.1, 2.2, 7, 136]\n",
    "element_information['Pt']=[195.084, 78, 6, 10, 8.9, 2.28, 9, 139]\n",
    "element_information['Au']=[196.966, 79, 6, 11, 9.19, 2.54, 10, 144]\n",
    "element_information['Hg']=[200.59, 80, 6, 12, 10.39, 2, 10, 157]\n",
    "element_information['Tl']=[204.383, 81, 6, 13, 6.08, 1.62, 10, 171]\n",
    "element_information['Pb']=[207.2, 82, 6, 14, 7.38, 2.33, 10, 175]\n",
    "element_information['Bi']=[208.98, 83, 6, 15, 7.25, 2.02, 10, 170]\n",
    "###added\n",
    "element_information['Ba']=[137.327, 56, 6, 2, 5.19, 0.89, 10, 222]\n",
    "element_information['Sr']=[87.62, 38, 5, 2, 5.67, 0.95, 10, 215]\n",
    "element_information['Na']=[22.9897, 11, 3, 1, 5.12, 0.93, 0, 190]\n",
    "element_information['K']=[39.0983, 19, 4, 1, 4.32, 0.82, 0, 235]\n",
    "element_information['Ca']=[40.078, 20, 4, 2, 6.09, 1, 0, 197]\n",
    "element_information['Mg']=[24.3050, 12, 3, 2, 7.61, 1.31, 0, 160]\n",
    "element_information['Li']=[6.941, 3, 2, 1, 5.37, 0.98, 0, 145]\n",
    "element_information['C']=[12.0107, 6, 2, 14, 11.22, 2.56, 0, 77]\n",
    "element_information['B']=[10.811, 5, 2, 13, 8.33, 2.04, 0, 98]\n",
    "element_information['N']=[14.0067, 7, 2, 15, 14.48, 3.04, 0, 92]\n",
    "element_information['P']=[30.9737, 15, 3, 15, 10.3, 2.19, 0, 128]\n",
    "element_information['F']=[18.9984, 9, 2, 17, 18.6, 3.98, 0, 73]\n",
    "element_information['S']=[32.065, 16, 3, 16, 10.31, 2.58, 0, 127]\n",
    "element_information['Sb']=[121.760, 51, 5, 15, 8.35, 2.05, 10, 159]\n",
    "element_information['Te']=[127.6, 52, 52, 5, 16, 9.0096, 2.1, 10, 160]\n",
    "element_information['Br']=[79.904, 35, 4, 17, 11.8, 2.96, 10, 115]\n",
    "element_information['Cl']=[35.453, 17, 3, 17, 12.96, 3.16, 0, 99]\n",
    "element_information['Si']=[28.0855, 14, 3, 14, 8.12, 1.9, 0, 132]\n",
    "element_information['Se']=[78.96, 34, 4, 16, 9.5, 2.55, 10, 140]\n",
    "element_information['Al']=[26.9815, 13, 3, 13, 5.95, 1.61, 0,143]"
   ]
  },
  {
   "cell_type": "code",
   "execution_count": null,
   "id": "e33b51ce",
   "metadata": {},
   "outputs": [],
   "source": [
    "for i in range(0,database_init.shape[0]):\n",
    "    Metal_Dopant_1_type=database_init.iloc[i]['Metal_Dopant_1']\n",
    "    Metal_Dopant_2_type=database_init.iloc[i]['Metal_Dopant_2']\n",
    "    Metal_Dopant_3_type=database_init.iloc[i]['Metal_Dopant_3']\n",
    "    Metal_Dopant_4_type=database_init.iloc[i]['Metal_Dopant_4']\n",
    "    #####extract the element informations\n",
    "    information_list_element_1=element_information[Metal_Dopant_1_type]\n",
    "    information_list_element_2=element_information[Metal_Dopant_2_type]\n",
    "    information_list_element_3=element_information[Metal_Dopant_3_type]\n",
    "    information_list_element_4=element_information[Metal_Dopant_4_type]\n",
    "#     print(information_list_element_1)\n",
    "    #####input the element informations\n",
    "    database_init.loc[i,'Metal_Dopant_1 Relative Atomic Mass']=information_list_element_1[0]\n",
    "    database_init.loc[i,'Metal_Dopant_1 Atomic Number']=information_list_element_1[1]\n",
    "    database_init.loc[i,'Metal_Dopant_1 Period']=information_list_element_1[2]\n",
    "    database_init.loc[i,'Metal_Dopant_1 Group']=information_list_element_1[3]\n",
    "    database_init.loc[i,'Metal_Dopant_1 Ionization Potential']=information_list_element_1[4]\n",
    "    database_init.loc[i,'Metal_Dopant_1 Electronegativity']=information_list_element_1[5]\n",
    "    database_init.loc[i,'Metal_Dopant_1 Number of d electrons']=information_list_element_1[6]\n",
    "    database_init.loc[i,'Metal_Dopant_1 Atomic Radius']=information_list_element_1[7]\n",
    "    \n",
    "    database_init.loc[i,'Metal_Dopant_2 Relative Atomic Mass']=information_list_element_2[0]\n",
    "    database_init.loc[i,'Metal_Dopant_2 Atomic Number']=information_list_element_2[1]\n",
    "    database_init.loc[i,'Metal_Dopant_2 Period']=information_list_element_2[2]\n",
    "    database_init.loc[i,'Metal_Dopant_2 Group']=information_list_element_2[3]\n",
    "    database_init.loc[i,'Metal_Dopant_2 Ionization Potential']=information_list_element_2[4]\n",
    "    database_init.loc[i,'Metal_Dopant_2 Electronegativity']=information_list_element_2[5]\n",
    "    database_init.loc[i,'Metal_Dopant_2 Number of d electrons']=information_list_element_2[6]\n",
    "    database_init.loc[i,'Metal_Dopant_2 Atomic Radius']=information_list_element_2[7]\n",
    "    \n",
    "    database_init.loc[i,'Metal_Dopant_3 Relative Atomic Mass']=information_list_element_3[0]\n",
    "    database_init.loc[i,'Metal_Dopant_3 Atomic Number']=information_list_element_3[1]\n",
    "    database_init.loc[i,'Metal_Dopant_3 Period']=information_list_element_3[2]\n",
    "    database_init.loc[i,'Metal_Dopant_3 Group']=information_list_element_3[3]\n",
    "    database_init.loc[i,'Metal_Dopant_3 Ionization Potential']=information_list_element_3[4]\n",
    "    database_init.loc[i,'Metal_Dopant_3 Electronegativity']=information_list_element_3[5]\n",
    "    database_init.loc[i,'Metal_Dopant_3 Number of d electrons']=information_list_element_3[6]\n",
    "    database_init.loc[i,'Metal_Dopant_3 Atomic Radius']=information_list_element_3[7]\n",
    "    \n",
    "    database_init.loc[i,'Metal_Dopant_4 Relative Atomic Mass']=information_list_element_4[0]\n",
    "    database_init.loc[i,'Metal_Dopant_4 Atomic Number']=information_list_element_4[1]\n",
    "    database_init.loc[i,'Metal_Dopant_4 Period']=information_list_element_4[2]\n",
    "    database_init.loc[i,'Metal_Dopant_4 Group']=information_list_element_4[3]\n",
    "    database_init.loc[i,'Metal_Dopant_4 Ionization Potential']=information_list_element_4[4]\n",
    "    database_init.loc[i,'Metal_Dopant_4 Electronegativity']=information_list_element_4[5]\n",
    "    database_init.loc[i,'Metal_Dopant_4 Number of d electrons']=information_list_element_4[6]\n",
    "    database_init.loc[i,'Metal_Dopant_4 Atomic Radius']=information_list_element_4[7]"
   ]
  },
  {
   "cell_type": "code",
   "execution_count": null,
   "id": "ab183eb9",
   "metadata": {},
   "outputs": [],
   "source": [
    "database_init=database_init.reset_index(drop = True)"
   ]
  },
  {
   "cell_type": "code",
   "execution_count": null,
   "id": "09fa2b6d",
   "metadata": {},
   "outputs": [],
   "source": [
    "database_init"
   ]
  },
  {
   "cell_type": "code",
   "execution_count": null,
   "id": "ae8922c8",
   "metadata": {},
   "outputs": [],
   "source": [
    "database_2=database_init.drop(labels=['Metal_Dopant_1','Metal_Dopant_2','Metal_Dopant_3','Metal_Dopant_4'],axis=1)"
   ]
  },
  {
   "cell_type": "code",
   "execution_count": null,
   "id": "be384387",
   "metadata": {},
   "outputs": [],
   "source": [
    "database_final=database_2.fillna(database_2.median())"
   ]
  },
  {
   "cell_type": "code",
   "execution_count": null,
   "id": "e5bb0912",
   "metadata": {},
   "outputs": [],
   "source": [
    "import pickle\n",
    "database_final.to_pickle(\"./database_high_quality_ac.pkl\")"
   ]
  },
  {
   "cell_type": "code",
   "execution_count": null,
   "id": "f54ce33d",
   "metadata": {},
   "outputs": [],
   "source": [
    "database_2.loc[:,'Overpotential (mV @10 mA cm-2)'].mean()"
   ]
  },
  {
   "cell_type": "code",
   "execution_count": null,
   "id": "74e53db1",
   "metadata": {},
   "outputs": [],
   "source": [
    "database_2.loc[:,'Overpotential (mV @10 mA cm-2)'].std()"
   ]
  },
  {
   "cell_type": "code",
   "execution_count": null,
   "id": "ba6a747a",
   "metadata": {},
   "outputs": [],
   "source": [
    "database_2.loc[:,'Overpotential (mV @10 mA cm-2)'].to_csv('HQAC.csv')"
   ]
  },
  {
   "cell_type": "code",
   "execution_count": null,
   "id": "5cb7806a",
   "metadata": {},
   "outputs": [],
   "source": [
    "len(database_2)"
   ]
  },
  {
   "cell_type": "code",
   "execution_count": null,
   "id": "4e9dfb48",
   "metadata": {},
   "outputs": [],
   "source": []
  }
 ],
 "metadata": {
  "kernelspec": {
   "display_name": "Python 3 (ipykernel)",
   "language": "python",
   "name": "python3"
  },
  "language_info": {
   "codemirror_mode": {
    "name": "ipython",
    "version": 3
   },
   "file_extension": ".py",
   "mimetype": "text/x-python",
   "name": "python",
   "nbconvert_exporter": "python",
   "pygments_lexer": "ipython3",
   "version": "3.9.12"
  }
 },
 "nbformat": 4,
 "nbformat_minor": 5
}
